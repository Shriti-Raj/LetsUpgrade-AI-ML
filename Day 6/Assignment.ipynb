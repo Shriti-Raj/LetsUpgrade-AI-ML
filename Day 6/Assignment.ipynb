{
 "cells": [
  {
   "cell_type": "markdown",
   "metadata": {},
   "source": [
    "# Question 1"
   ]
  },
  {
   "cell_type": "code",
   "execution_count": 13,
   "metadata": {},
   "outputs": [
    {
     "name": "stdout",
     "output_type": "stream",
     "text": [
      "Enter a stringjohn@google.com\n",
      "Company name for the given email address:  google\n"
     ]
    }
   ],
   "source": [
    "str1 = raw_input(\"Enter a string\")\n",
    "user, comp = str1.split(\"@\")\n",
    "comp_name, com = comp.split(\".\") \n",
    "print(\"Company name for the given email address:  \" + comp_name)"
   ]
  },
  {
   "cell_type": "markdown",
   "metadata": {},
   "source": [
    "# Question 2"
   ]
  },
  {
   "cell_type": "code",
   "execution_count": 19,
   "metadata": {},
   "outputs": [
    {
     "name": "stdout",
     "output_type": "stream",
     "text": [
      "Enter words: without,hello,bag,world\n",
      "bag hello without world\n"
     ]
    }
   ],
   "source": [
    "str1 = raw_input(\"Enter words: \")\n",
    "str1 = str1.split(\",\")\n",
    "str1.sort()\n",
    "listToStr = ' '.join(map(str, str1))\n",
    "print(listToStr)"
   ]
  },
  {
   "cell_type": "markdown",
   "metadata": {},
   "source": [
    "# Question 3"
   ]
  },
  {
   "cell_type": "markdown",
   "metadata": {},
   "source": [
    "Sets:\n",
    "\n",
    "A set is a collection which is unordered and unindexed. \n",
    "\n",
    "- They are written with curly brackets. \n",
    "- We can loop through the set using \"for\" loop as it can't be accessed using an index.\n"
   ]
  },
  {
   "cell_type": "code",
   "execution_count": 5,
   "metadata": {},
   "outputs": [
    {
     "name": "stdout",
     "output_type": "stream",
     "text": [
      "set(['cherry', 'apple', 'banana'])\n",
      "\n",
      "Using for loop\n",
      "cherry\n",
      "apple\n",
      "banana\n"
     ]
    }
   ],
   "source": [
    "thisset = {\"apple\", \"banana\", \"cherry\"}\n",
    "print(thisset)\n",
    "\n",
    "print(\"\\nUsing for loop\")\n",
    "for x in thisset:\n",
    "    print(x)"
   ]
  },
  {
   "cell_type": "code",
   "execution_count": 6,
   "metadata": {},
   "outputs": [
    {
     "name": "stdout",
     "output_type": "stream",
     "text": [
      "True\n"
     ]
    }
   ],
   "source": [
    "thisset = {\"apple\", \"banana\", \"cherry\"}\n",
    "\n",
    "print(\"banana\" in thisset)"
   ]
  },
  {
   "cell_type": "markdown",
   "metadata": {},
   "source": [
    "- To add one item to a set use the add() method.\n",
    "- To add more than one item to a set use the update() method.\n",
    "- To determine how many items a set has, use the len() method.\n",
    "- To remove an item in a set, use the remove(), or the discard() method. The only difference between the two is that remove will give error if the item is not present but discard will not give error.\n",
    "- pop() removes the last element from the set but since the set is unordered we will not know which item will be removed.\n",
    "- clear() empties the set.\n",
    "- del() deletes the set entirely."
   ]
  },
  {
   "cell_type": "code",
   "execution_count": 31,
   "metadata": {},
   "outputs": [
    {
     "name": "stdout",
     "output_type": "stream",
     "text": [
      "After using add\n",
      "set(['orange', 'cherry', 'apple', 'banana'])\n",
      "Length: 4\n",
      "\n",
      "\n",
      "After using update\n",
      "set(['apple', 'cherry', 'mango', 'grapes', 'orange', 'banana'])\n",
      "Length: 6\n",
      "\n",
      "\n",
      "After using remove\n",
      "set(['apple', 'cherry', 'mango', 'grapes', 'orange'])\n",
      "After using discard\n",
      "set(['apple', 'cherry', 'mango', 'grapes', 'orange'])\n",
      "\n",
      "After using pop\n",
      "apple\n",
      "set(['cherry', 'mango', 'grapes', 'orange'])\n",
      "\n",
      "After using clear\n",
      "set([])\n",
      "\n",
      "After using del\n"
     ]
    },
    {
     "ename": "NameError",
     "evalue": "name 'thisset1' is not defined",
     "output_type": "error",
     "traceback": [
      "\u001b[0;31m---------------------------------------------------------------------------\u001b[0m",
      "\u001b[0;31mNameError\u001b[0m                                 Traceback (most recent call last)",
      "\u001b[0;32m<ipython-input-31-8efa928bf566>\u001b[0m in \u001b[0;36m<module>\u001b[0;34m()\u001b[0m\n\u001b[1;32m     39\u001b[0m \u001b[0;32mdel\u001b[0m \u001b[0mthisset1\u001b[0m\u001b[0;34m\u001b[0m\u001b[0m\n\u001b[1;32m     40\u001b[0m \u001b[0;32mprint\u001b[0m\u001b[0;34m(\u001b[0m\u001b[0;34m\"\\nAfter using del\"\u001b[0m\u001b[0;34m)\u001b[0m\u001b[0;34m\u001b[0m\u001b[0m\n\u001b[0;32m---> 41\u001b[0;31m \u001b[0;32mprint\u001b[0m\u001b[0;34m(\u001b[0m\u001b[0mthisset1\u001b[0m\u001b[0;34m)\u001b[0m\u001b[0;34m\u001b[0m\u001b[0m\n\u001b[0m",
      "\u001b[0;31mNameError\u001b[0m: name 'thisset1' is not defined"
     ]
    }
   ],
   "source": [
    "thisset = {\"apple\", \"banana\", \"cherry\"}\n",
    "\n",
    "thisset.add(\"orange\")\n",
    "print(\"After using add\")\n",
    "print(thisset)\n",
    "print(\"Length: \" + str(len(thisset)))\n",
    "\n",
    "print(\"\\n\")\n",
    "\n",
    "thisset.update([\"orange\", \"mango\", \"grapes\"])\n",
    "print(\"After using update\")\n",
    "print(thisset)\n",
    "print(\"Length: \" + str(len(thisset)))\n",
    "\n",
    "print(\"\\n\")\n",
    "thisset.remove(\"banana\")\n",
    "print(\"After using remove\")\n",
    "print(thisset)\n",
    "\n",
    "thisset.discard(\"banana\")\n",
    "print(\"After using discard\")\n",
    "print(thisset)\n",
    "\n",
    "print(\"\\nAfter using pop\")\n",
    "\n",
    "x = thisset.pop()\n",
    "\n",
    "print(x)\n",
    "\n",
    "print(thisset)\n",
    "\n",
    "\n",
    "thisset.clear()\n",
    "print(\"\\nAfter using clear\")\n",
    "print(thisset)\n",
    "\n",
    "thisset1 = {\"apple\", \"banana\", \"cherry\"}\n",
    "\n",
    "del thisset1\n",
    "print(\"\\nAfter using del\")\n",
    "print(thisset1)"
   ]
  },
  {
   "cell_type": "markdown",
   "metadata": {},
   "source": [
    "- union() method that returns a new set containing all items from both sets, or the update() method that inserts all the items from one set into another.\n",
    "- use the set() constructor to make a set."
   ]
  },
  {
   "cell_type": "code",
   "execution_count": 56,
   "metadata": {},
   "outputs": [
    {
     "name": "stdout",
     "output_type": "stream",
     "text": [
      "New Set 3\n",
      "set(['a', 1, 'c', 'b', 3, 2])\n",
      "Updated set 1\n",
      "set(['a', 1, 'c', 'b', 3, 2])\n",
      "set(['cherry', 'apple', 'banana'])\n"
     ]
    }
   ],
   "source": [
    "set1 = {\"a\", \"b\" , \"c\"}\n",
    "set2 = {1, 2, 3}\n",
    "\n",
    "set3 = set1.union(set2)\n",
    "print(\"New Set 3\")\n",
    "print(set3)\n",
    "\n",
    "\n",
    "set1 = {\"a\", \"b\" , \"c\"}\n",
    "set2 = {1, 2, 3}\n",
    "\n",
    "set1.update(set2)\n",
    "print(\"Updated set 1\")\n",
    "print(set1)\n",
    "\n",
    "\n",
    "thisset = set((\"apple\", \"banana\", \"cherry\"))\n",
    "print(thisset)"
   ]
  },
  {
   "cell_type": "markdown",
   "metadata": {},
   "source": [
    "# Question 4"
   ]
  },
  {
   "cell_type": "code",
   "execution_count": 47,
   "metadata": {},
   "outputs": [
    {
     "name": "stdout",
     "output_type": "stream",
     "text": [
      "Enter values: 1 2 4 6 3 7 8\n",
      "5\n"
     ]
    }
   ],
   "source": [
    "lst1 = raw_input(\"Enter values: \")\n",
    "\n",
    "lst1 = lst1.split()\n",
    "lst1 = [int(i) for i in lst1]\n",
    "lst1.sort()\n",
    "new_list = [x for x in range(lst1[0], lst1[-1] + 1)]\n",
    "lst1 = set(lst1)\n",
    "listToStr = ' '.join(map(str, list(lst1 ^ set(new_list))))\n",
    "print(listToStr)\n",
    "    "
   ]
  },
  {
   "cell_type": "markdown",
   "metadata": {},
   "source": [
    "# Question 5"
   ]
  },
  {
   "cell_type": "code",
   "execution_count": 53,
   "metadata": {},
   "outputs": [
    {
     "name": "stdout",
     "output_type": "stream",
     "text": [
      "Enter values: 1 7 4 5 7 2 4\n",
      "1 7 4 5 2\n"
     ]
    }
   ],
   "source": [
    "def unique(seq):\n",
    "    set1 = set()\n",
    "    return [x for x in seq if not (x in set1 or set1.add(x))]\n",
    "\n",
    "lst1 = raw_input(\"Enter values: \")\n",
    "\n",
    "lst1 = lst1.split()\n",
    "listToStr = ' '.join(map(str, unique(lst1)))\n",
    "print(listToStr)\n"
   ]
  },
  {
   "cell_type": "code",
   "execution_count": null,
   "metadata": {},
   "outputs": [],
   "source": []
  }
 ],
 "metadata": {
  "kernelspec": {
   "display_name": "Python 2",
   "language": "python",
   "name": "python2"
  },
  "language_info": {
   "codemirror_mode": {
    "name": "ipython",
    "version": 2
   },
   "file_extension": ".py",
   "mimetype": "text/x-python",
   "name": "python",
   "nbconvert_exporter": "python",
   "pygments_lexer": "ipython2",
   "version": "2.7.16"
  }
 },
 "nbformat": 4,
 "nbformat_minor": 2
}
