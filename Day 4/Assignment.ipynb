{
 "cells": [
  {
   "cell_type": "markdown",
   "metadata": {},
   "source": [
    "# Question 1"
   ]
  },
  {
   "cell_type": "markdown",
   "metadata": {},
   "source": [
    "The addition, subtraction, multiplication and division can be performed on the complex numbers.\n",
    "Floor division and modulo operations gives error.\n"
   ]
  },
  {
   "cell_type": "code",
   "execution_count": 6,
   "metadata": {},
   "outputs": [
    {
     "name": "stdout",
     "output_type": "stream",
     "text": [
      "Enter value for real part of first number: 4\n",
      "Enter value for imaginary part of first number: 3\n",
      "Enter value for real part of second number: 2\n",
      "Enter value for imaginary part of second number: 1\n"
     ]
    }
   ],
   "source": [
    "x1 = int(input(\"Enter value for real part of first number: \"))\n",
    "y1 = int(input(\"Enter value for imaginary part of first number: \"))\n",
    "x2 = int(input(\"Enter value for real part of second number: \"))\n",
    "y2 = int(input(\"Enter value for imaginary part of second number: \"))"
   ]
  },
  {
   "cell_type": "code",
   "execution_count": 7,
   "metadata": {},
   "outputs": [
    {
     "name": "stdout",
     "output_type": "stream",
     "text": [
      "Addition of given 2 numbers is : (6+4j)\n",
      "Subtraction of given 2 numbers is : (2+2j)\n",
      "Multiplication of given 2 numbers is : (5+10j)\n",
      "Division of given 2 numbers is : (2.2+0.4j)\n"
     ]
    }
   ],
   "source": [
    "z1 = complex(x1, y1)\n",
    "z2 = complex(x2, y2)\n",
    "add = z1 + z2\n",
    "sub = z1 - z2\n",
    "mul = z1 * z2\n",
    "div = z1 / z2\n",
    "print(\"Addition of given 2 numbers is : \" + str(add))\n",
    "print(\"Subtraction of given 2 numbers is : \" + str(sub))\n",
    "print(\"Multiplication of given 2 numbers is : \" + str(mul))\n",
    "print(\"Division of given 2 numbers is : \" + str(div))"
   ]
  },
  {
   "cell_type": "markdown",
   "metadata": {},
   "source": [
    "# Question 2"
   ]
  },
  {
   "cell_type": "markdown",
   "metadata": {},
   "source": [
    "range() in python is used to display a sequence of numbers by incrementing it by 1 till the specified number, and default it starts from 0. The parameters are start, stop and step. start parameter is optional, by default its value is 0 and it tells about from which number to start. stop is required parameter and it tells about when to stop. step parameter is optional, by default its value is 1 and it tells about by how much the increment is to be done.\n",
    "\n",
    "range(start, stop, step)"
   ]
  },
  {
   "cell_type": "code",
   "execution_count": 13,
   "metadata": {},
   "outputs": [
    {
     "name": "stdout",
     "output_type": "stream",
     "text": [
      "0\n",
      "2\n",
      "4\n",
      "6\n",
      "8\n"
     ]
    }
   ],
   "source": [
    "for i in range(0,9,2):\n",
    "    print i"
   ]
  },
  {
   "cell_type": "markdown",
   "metadata": {},
   "source": [
    "# Question 3"
   ]
  },
  {
   "cell_type": "code",
   "execution_count": 17,
   "metadata": {},
   "outputs": [
    {
     "name": "stdout",
     "output_type": "stream",
     "text": [
      "Enter first number: 70\n",
      "Enter second number: 65\n",
      "x: 70\n",
      "y: 65\n",
      "Division of given 2 numbers is : 1\n"
     ]
    }
   ],
   "source": [
    "x = int(input(\"Enter first number: \"))\n",
    "y = int(input(\"Enter second number: \"))\n",
    "print(\"x: \" + str(x))\n",
    "print(\"y: \" + str(y))\n",
    "sub = x - y\n",
    "if(sub > 25):\n",
    "    mul = x * y\n",
    "    print(\"Multiplication of given 2 numbers is : \" + str(mul))\n",
    "else:\n",
    "    div = x / y\n",
    "    print(\"Division of given 2 numbers is : \" + str(div))"
   ]
  },
  {
   "cell_type": "markdown",
   "metadata": {},
   "source": [
    "# Question 4"
   ]
  },
  {
   "cell_type": "code",
   "execution_count": 20,
   "metadata": {},
   "outputs": [
    {
     "name": "stdout",
     "output_type": "stream",
     "text": [
      "Enter number: 1\n",
      "Enter number: 2\n",
      "Enter number: 3\n",
      "Enter number: 4\n",
      "Enter number: 5\n",
      "Enter number: 6\n",
      "Enter number: 7\n",
      "Enter number: 8\n",
      "Enter number: 9\n",
      "Enter number: 10\n",
      "4\n",
      "16\n",
      "36\n",
      "64\n",
      "100\n"
     ]
    }
   ],
   "source": [
    "lst = []\n",
    "for i in range(0, 10):\n",
    "    x = int(input(\"Enter number: \"))\n",
    "    lst.append(x)\n",
    "for i in lst:\n",
    "    if(i % 2 == 0):\n",
    "        print(i ** 2)\n",
    "    "
   ]
  },
  {
   "cell_type": "markdown",
   "metadata": {},
   "source": [
    "# Question 5"
   ]
  },
  {
   "cell_type": "code",
   "execution_count": 21,
   "metadata": {},
   "outputs": [
    {
     "name": "stdout",
     "output_type": "stream",
     "text": [
      "Enter number: 74\n",
      "Enter number: 85\n",
      "Enter number: 12\n",
      "Enter number: 54\n",
      "Enter number: 63\n",
      "Enter number: 7\n",
      "Enter number: 8\n",
      "Enter number: 9\n",
      "Enter number: 2\n",
      "Enter number: 10\n",
      "74\n",
      "85\n",
      "54\n",
      "63\n"
     ]
    }
   ],
   "source": [
    "lst = []\n",
    "for i in range(0, 10):\n",
    "    x = int(input(\"Enter number: \"))\n",
    "    lst.append(x)\n",
    "for i in lst:\n",
    "    if((i / 2) > 7):\n",
    "        print i"
   ]
  },
  {
   "cell_type": "code",
   "execution_count": null,
   "metadata": {},
   "outputs": [],
   "source": []
  }
 ],
 "metadata": {
  "kernelspec": {
   "display_name": "Python 2",
   "language": "python",
   "name": "python2"
  },
  "language_info": {
   "codemirror_mode": {
    "name": "ipython",
    "version": 2
   },
   "file_extension": ".py",
   "mimetype": "text/x-python",
   "name": "python",
   "nbconvert_exporter": "python",
   "pygments_lexer": "ipython2",
   "version": "2.7.16"
  }
 },
 "nbformat": 4,
 "nbformat_minor": 2
}
