{
 "cells": [
  {
   "cell_type": "markdown",
   "metadata": {},
   "source": [
    "# Question 1\n"
   ]
  },
  {
   "cell_type": "code",
   "execution_count": 2,
   "metadata": {},
   "outputs": [
    {
     "name": "stdout",
     "output_type": "stream",
     "text": [
      "Enter value for real part of first number: 4\n",
      "Enter value for imaginary part of first number: 3\n",
      "Enter value for real part of second number: 2\n",
      "Enter value for imaginary part of second number: 1\n"
     ]
    }
   ],
   "source": [
    "x1 = int(input(\"Enter value for real part of first number: \"))\n",
    "y1 = int(input(\"Enter value for imaginary part of first number: \"))\n",
    "x2 = int(input(\"Enter value for real part of second number: \"))\n",
    "y2 = int(input(\"Enter value for imaginary part of second number: \"))"
   ]
  },
  {
   "cell_type": "code",
   "execution_count": 4,
   "metadata": {},
   "outputs": [
    {
     "name": "stdout",
     "output_type": "stream",
     "text": [
      "Subtraction of given 2 numbers is : (2+2j)\n"
     ]
    }
   ],
   "source": [
    "z1 = complex(x1, y1)\n",
    "z2 = complex(x2, y2)\n",
    "result = z1 - z2\n",
    "print(\"Subtraction of given 2 numbers is : \" + str(result))"
   ]
  },
  {
   "cell_type": "markdown",
   "metadata": {},
   "source": [
    "# Question 2"
   ]
  },
  {
   "cell_type": "code",
   "execution_count": 9,
   "metadata": {},
   "outputs": [
    {
     "name": "stdout",
     "output_type": "stream",
     "text": [
      "Enter number: 81\n",
      "Fourth root of given number: 3.0\n"
     ]
    }
   ],
   "source": [
    "x = float(input(\"Enter number: \"))\n",
    "result = x ** (1.0/4.0)\n",
    "print(\"Fourth root of given number: \" + str(result))"
   ]
  },
  {
   "cell_type": "markdown",
   "metadata": {},
   "source": [
    "# Question 3"
   ]
  },
  {
   "cell_type": "code",
   "execution_count": 13,
   "metadata": {},
   "outputs": [
    {
     "name": "stdout",
     "output_type": "stream",
     "text": [
      "Enter first number: 8\n",
      "Enter second number: 5\n",
      "x: 8\n",
      "y: 5\n",
      "======After Swapping=====\n",
      "x: 5\n",
      "y: 8\n"
     ]
    }
   ],
   "source": [
    "x = int(input(\"Enter first number: \"))\n",
    "y = int(input(\"Enter second number: \"))\n",
    "print(\"x: \" + str(x))\n",
    "print(\"y: \" + str(y))\n",
    "temp = x\n",
    "x = y\n",
    "y = temp\n",
    "print(\"======After Swapping=====\")\n",
    "print(\"x: \" + str(x))\n",
    "print(\"y: \" + str(y))"
   ]
  },
  {
   "cell_type": "markdown",
   "metadata": {},
   "source": [
    "# Question 4"
   ]
  },
  {
   "cell_type": "code",
   "execution_count": 14,
   "metadata": {},
   "outputs": [
    {
     "name": "stdout",
     "output_type": "stream",
     "text": [
      "Enter first number: 8\n",
      "Enter second number: 5\n",
      "x: 8\n",
      "y: 5\n",
      "======After Swapping w/o temp variable=====\n",
      "x: 5\n",
      "y: 8\n"
     ]
    }
   ],
   "source": [
    "x = int(input(\"Enter first number: \"))\n",
    "y = int(input(\"Enter second number: \"))\n",
    "print(\"x: \" + str(x))\n",
    "print(\"y: \" + str(y))\n",
    "x, y = y, x\n",
    "print(\"======After Swapping w/o temp variable=====\")\n",
    "print(\"x: \" + str(x))\n",
    "print(\"y: \" + str(y))"
   ]
  },
  {
   "cell_type": "markdown",
   "metadata": {},
   "source": [
    "# Question 5"
   ]
  },
  {
   "cell_type": "code",
   "execution_count": 17,
   "metadata": {},
   "outputs": [
    {
     "name": "stdout",
     "output_type": "stream",
     "text": [
      "Enter temperature in Fahrenheit: 100\n",
      "Temperature:\n",
      "Fahrenheit= 100.00 F\n",
      "Celsius= 37.78 °C\n",
      "Kelvin= 311.28 K\n"
     ]
    }
   ],
   "source": [
    "F = int(input(\"Enter temperature in Fahrenheit: \"))\n",
    "C = (F - 32) * 5.0/9.0\n",
    "K = 273.5 + ((F - 32.0) * (5.0/9.0))\n",
    "print(\"Temperature:\")\n",
    "print(\"Fahrenheit= \" + \"{:.2f}\".format(F) + \" F\")\n",
    "print(\"Celsius= \" + \"{:.2f}\".format(C) + \" °C\")\n",
    "print(\"Kelvin= \" + \"{:.2f}\".format(K) + \" K\")\n"
   ]
  },
  {
   "cell_type": "markdown",
   "metadata": {},
   "source": [
    "# Question 6 "
   ]
  },
  {
   "cell_type": "code",
   "execution_count": 4,
   "metadata": {},
   "outputs": [
    {
     "name": "stdout",
     "output_type": "stream",
     "text": [
      "('Type of a: ', <type 'int'>)\n",
      "('Type of b: ', <type 'float'>)\n",
      "('Type of c: ', <type 'str'>)\n",
      "('Type of d: ', <type 'complex'>)\n",
      "('Type of e: ', <type 'bool'>)\n"
     ]
    }
   ],
   "source": [
    "a = 2\n",
    "print(\"Type of a: \",type(a))\n",
    "b = 45.87\n",
    "print(\"Type of b: \",type(b))\n",
    "c = \"Hello\"\n",
    "print(\"Type of c: \",type(c))\n",
    "d = 2+5j\n",
    "print(\"Type of d: \",type(d))\n",
    "e = True\n",
    "print(\"Type of e: \",type(e))"
   ]
  },
  {
   "cell_type": "code",
   "execution_count": 5,
   "metadata": {},
   "outputs": [
    {
     "name": "stdout",
     "output_type": "stream",
     "text": [
      "('Type of x: ', <type 'list'>)\n",
      "('Type of y: ', <type 'tuple'>)\n",
      "('Type of z: ', <type 'set'>)\n",
      "('Type of w: ', <type 'dict'>)\n"
     ]
    }
   ],
   "source": [
    "x = [1,2,3,4]\n",
    "print(\"Type of x: \",type(x))\n",
    "y = (1,2,3,4)\n",
    "print(\"Type of y: \",type(y))\n",
    "z = {1,2,3,4}\n",
    "print(\"Type of z: \", type(z))\n",
    "w = {\"name\" : \"Rahul\" , \"roll_no\" : \"21\"}\n",
    "print(\"Type of w: \",type(w))"
   ]
  },
  {
   "cell_type": "markdown",
   "metadata": {},
   "source": [
    "# Question 6"
   ]
  },
  {
   "cell_type": "markdown",
   "metadata": {},
   "source": [
    "For GitHub profile creation and assignment uploading, steps are as follows:\n",
    "\n",
    "1. Open https://github.com/ and sign up by filling up the form.\n",
    "2. Create a public repository with the name LetsUpgrade AI/ML. LetsUpgrade-AI-ML repo will be created.\n",
    "3. Under the Quick Setup, we click on \"uploading an existing file\".\n",
    "4. Drag and drop the folder for a particular day and check below if the file is uploaded. \n",
    "5. Then click on commit changes.\n",
    "6. Once the processing is done, open the file and check the contents.\n",
    "7. Next come inside that particulat day's folder and copy the URL.\n",
    "8. The Google form shared for assignment uploading has to be filled with registered Email address, assignment      number and the copied GitHub URL.\n",
    "9. Before submitting the form, check the URL in incognito window if it is public or not. If it is public, submit the google form.\n",
    "\n"
   ]
  },
  {
   "cell_type": "code",
   "execution_count": null,
   "metadata": {},
   "outputs": [],
   "source": []
  }
 ],
 "metadata": {
  "kernelspec": {
   "display_name": "Python 2",
   "language": "python",
   "name": "python2"
  },
  "language_info": {
   "codemirror_mode": {
    "name": "ipython",
    "version": 2
   },
   "file_extension": ".py",
   "mimetype": "text/x-python",
   "name": "python",
   "nbconvert_exporter": "python",
   "pygments_lexer": "ipython2",
   "version": "2.7.16"
  }
 },
 "nbformat": 4,
 "nbformat_minor": 2
}
